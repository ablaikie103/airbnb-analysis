{
 "cells": [
  {
   "cell_type": "markdown",
   "metadata": {},
   "source": [
    "In this notebook I am going to extract AirBnB data: http://insideairbnb.com/get-the-data.html. Transform it into a pandas DataFrame and store it in an SQLite Database. "
   ]
  },
  {
   "cell_type": "code",
   "execution_count": 24,
   "metadata": {},
   "outputs": [],
   "source": [
    "# Imports\n",
    "import sqlite3\n",
    "import numpy as np\n",
    "import pandas as pd"
   ]
  },
  {
   "cell_type": "code",
   "execution_count": 29,
   "metadata": {},
   "outputs": [],
   "source": [
    "def transform_listings_data(df):\n",
    "    \n",
    "    # Drop variables with all there values missing\n",
    "    df.dropna(axis=1, how='all', inplace=True)\n",
    "    \n",
    "    # Drop columns \n",
    "    df.drop(columns=['id', 'host_id', 'host_name', 'listing_url', 'last_scraped'], inplace=True)\n",
    "    \n",
    "    # Drop variables that are the same for every listing\n",
    "    for col in df:\n",
    "        if df[col].value_counts().shape[0] == 1:\n",
    "            df.drop(columns=col, inplace=True)\n",
    "            \n",
    "    # Transform money columns from string:'$1,500.00'to float 1500.0\n",
    "    money_cols = ['price', 'cleaning_fee', 'security_deposit']\n",
    "    for col in money_cols:\n",
    "        df[col] = df[col].dropna().apply(lambda p: float(p[1:].replace(\",\", \"\")))\n",
    "    \n",
    "    # Which ammenities to check for\n",
    "    amenities = [\"Doorman\", \"Gym\", \"Pool\", \"Wheelchair Accessible\", \"Fireplace\", \"AC\",\n",
    "                 \"Washer/Dryer\", \"TV\", \"Breakfast\", \"Dog(s)\", \"Cat(s)\", \"24-Hour Check-in\",\"Hot tub\"]\n",
    "    \n",
    "    # Check to see if the listing offers these ammenities\n",
    "    amenity_arr = np.array([df['amenities'].map(lambda amns: amn in amns) for amn in amenities])\n",
    "    \n",
    "    df = pd.concat([df, pd.DataFrame(data=amenity_arr.T, columns=amenities)], axis=1)\n",
    "    \n",
    "\n",
    "    return df"
   ]
  },
  {
   "cell_type": "code",
   "execution_count": 30,
   "metadata": {},
   "outputs": [],
   "source": [
    "def load_listings_data(df, replace=True):\n",
    "    \n",
    "    conn = sqlite3.connect('data/airbnb.db')\n",
    "    \n",
    "    if replace:\n",
    "        df.to_sql('listings', con = conn, if_exists='replace', index=False)\n",
    "    else:\n",
    "        df.to_sql('listings', con = conn, if_exists='append', index=False)\n",
    "    conn.commit()\n",
    "    conn.close()\n",
    "    \n",
    "    return None"
   ]
  },
  {
   "cell_type": "code",
   "execution_count": 31,
   "metadata": {},
   "outputs": [],
   "source": [
    "# Execute this code cell to run the ETL pipeline\n",
    "\n",
    "PATH_TO_DATA = 'data/New-York/listings.csv'      \n",
    "city = 'New York'\n",
    "\n",
    "# Extract\n",
    "\n",
    "df = pd.read_csv(PATH_TO_DATA)\n",
    "df_city['from_city'] = city\n",
    "\n",
    "# Transform\n",
    "cleaned_data = transform_listings_data(df)\n",
    "\n",
    "# Load the Data\n",
    "load_listings_data(cleaned_data)"
   ]
  },
  {
   "cell_type": "code",
   "execution_count": 32,
   "metadata": {},
   "outputs": [
    {
     "data": {
      "text/plain": [
       "(50378, 104)"
      ]
     },
     "execution_count": 32,
     "metadata": {},
     "output_type": "execute_result"
    }
   ],
   "source": [
    "conn = sqlite3.connect('data/airbnb.db')\n",
    "pd.read_sql('SELECT * FROM listings', con = conn).shape"
   ]
  },
  {
   "cell_type": "code",
   "execution_count": 8,
   "metadata": {},
   "outputs": [],
   "source": []
  },
  {
   "cell_type": "code",
   "execution_count": 9,
   "metadata": {},
   "outputs": [],
   "source": []
  },
  {
   "cell_type": "code",
   "execution_count": null,
   "metadata": {},
   "outputs": [],
   "source": []
  },
  {
   "cell_type": "code",
   "execution_count": null,
   "metadata": {},
   "outputs": [],
   "source": []
  },
  {
   "cell_type": "code",
   "execution_count": null,
   "metadata": {},
   "outputs": [],
   "source": []
  },
  {
   "cell_type": "code",
   "execution_count": null,
   "metadata": {},
   "outputs": [],
   "source": []
  }
 ],
 "metadata": {
  "kernelspec": {
   "display_name": "Python 3",
   "language": "python",
   "name": "python3"
  },
  "language_info": {
   "codemirror_mode": {
    "name": "ipython",
    "version": 3
   },
   "file_extension": ".py",
   "mimetype": "text/x-python",
   "name": "python",
   "nbconvert_exporter": "python",
   "pygments_lexer": "ipython3",
   "version": "3.7.6"
  }
 },
 "nbformat": 4,
 "nbformat_minor": 4
}
